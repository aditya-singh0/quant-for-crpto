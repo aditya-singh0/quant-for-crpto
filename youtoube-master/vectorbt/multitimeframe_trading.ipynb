{
 "cells": [
  {
   "cell_type": "code",
   "execution_count": 1,
   "metadata": {},
   "outputs": [],
   "source": [
    "import os\n",
    "cwd = os.getcwd().replace('/vectorbt', '')\n",
    "os.chdir(cwd)"
   ]
  },
  {
   "cell_type": "code",
   "execution_count": 2,
   "metadata": {},
   "outputs": [],
   "source": [
    "import pandas as pd\n",
    "import numpy as np\n",
    "import vectorbt as vbt\n",
    "vbt.settings.set_theme('dark')\n"
   ]
  },
  {
   "cell_type": "markdown",
   "metadata": {},
   "source": [
    "### Upload dataset"
   ]
  },
  {
   "cell_type": "code",
   "execution_count": 3,
   "metadata": {},
   "outputs": [],
   "source": [
    "dataset = pd.read_csv('data/dataset_5m_180day_tickers.csv' , index_col=0)\n",
    "dataset.index = pd.to_datetime(dataset.index)"
   ]
  },
  {
   "cell_type": "markdown",
   "metadata": {},
   "source": [
    "### Resample dataset"
   ]
  },
  {
   "cell_type": "code",
   "execution_count": 4,
   "metadata": {},
   "outputs": [],
   "source": [
    "close = dataset.copy()\\\n",
    "    .groupby('symbol')['close']\\\n",
    "    .resample('5Min')\\\n",
    "    .last()\\\n",
    "    .unstack()\\\n",
    "    .T\n",
    "\n",
    "close_15m = dataset.copy().\\\n",
    "    groupby('symbol')['close']\\\n",
    "    .resample('15Min')\\\n",
    "    .last()\\\n",
    "    .unstack()\\\n",
    "    .T\n",
    "close_1h = dataset.copy().\\\n",
    "    groupby('symbol')['close']\\\n",
    "    .resample('60Min')\\\n",
    "    .last()\\\n",
    "    .unstack()\\\n",
    "    .T\n",
    "\n",
    "close_1d = dataset.copy().\\\n",
    "    groupby('symbol')['close']\\\n",
    "    .resample('1d')\\\n",
    "    .last()\\\n",
    "    .unstack()\\\n",
    "    .T"
   ]
  },
  {
   "cell_type": "markdown",
   "metadata": {},
   "source": [
    "#### Working with indicators\n",
    "* Create indicators for each timeframe\n",
    "* Join tables using *align* method from pandas"
   ]
  },
  {
   "cell_type": "code",
   "execution_count": 5,
   "metadata": {},
   "outputs": [],
   "source": [
    "rsi_15m = vbt.RSI.run(close_15m, window=14, short_name='RSI').rsi\n",
    "rsi_15m, _ = rsi_15m.align(close, broadcast_axis=0,\n",
    "                           method='ffill', join='right')\n",
    "\n",
    "rsi_1h = vbt.RSI.run(close_1h, window=14, short_name='RSI').rsi\n",
    "rsi_1h, _ = rsi_1h.align(close, broadcast_axis=0, method='ffill', join='right')\n",
    "\n",
    "rsi_1d = vbt.RSI.run(close_1d, window=14, short_name='RSI').rsi\n",
    "rsi_1d, _ = rsi_1d.align(close, broadcast_axis=0, method='ffill', join='right')"
   ]
  },
  {
   "cell_type": "markdown",
   "metadata": {},
   "source": [
    "#### Define trading logic\n",
    "* Create datafrmame shape with signal 0\n",
    "* Define signal of trading logic"
   ]
  },
  {
   "cell_type": "code",
   "execution_count": 6,
   "metadata": {},
   "outputs": [],
   "source": [
    "signal = rsi_15m.copy().applymap(lambda x: 0)\n",
    "signal[\n",
    "    (rsi_15m < 20) &\n",
    "    (rsi_1h < 20) &\n",
    "    (rsi_1d < 30)\n",
    "] = 1\n",
    "signal[\n",
    "    (rsi_15m > 80) &\n",
    "    (rsi_1h > 80) &\n",
    "    (rsi_1d > 70)\n",
    "] = -1\n"
   ]
  },
  {
   "cell_type": "markdown",
   "metadata": {},
   "source": [
    "#### Backtesting strategy"
   ]
  },
  {
   "cell_type": "code",
   "execution_count": 7,
   "metadata": {},
   "outputs": [
    {
     "data": {
      "application/vnd.jupyter.widget-view+json": {
       "model_id": "934dcefa28464c37a348362766497fae",
       "version_major": 2,
       "version_minor": 0
      },
      "text/plain": [
       "FigureWidget({\n",
       "    'data': [{'name': 'total_return',\n",
       "              'showlegend': True,\n",
       "              'type': '…"
      ]
     },
     "metadata": {},
     "output_type": "display_data"
    }
   ],
   "source": [
    "entries = np.where(signal == 1, True, False)\n",
    "exits = np.where(signal == -1, True, False)\n",
    "\n",
    "entries_short = np.where(signal == -1, True, False)\n",
    "exits_short = np.where(signal == 1, True, False)\n",
    "pf = vbt.Portfolio.from_signals(\n",
    "    close=close,\n",
    "    entries=entries,\n",
    "    exits=exits,\n",
    "    short_entries=entries_short,\n",
    "    short_exits=exits_short,\n",
    "    fees=0.001  \n",
    ")\n",
    "max_return = pf.total_return().groupby('symbol').max()\n",
    "max_return.vbt.barplot(xaxis_title='Symbol',\n",
    "                       yaxis_title='Max total return', height=400, width=1700)\n"
   ]
  },
  {
   "cell_type": "code",
   "execution_count": 8,
   "metadata": {},
   "outputs": [
    {
     "data": {
      "text/plain": [
       "symbol\n",
       "ADAUSDT     -0.265477\n",
       "ALGOUSDT     2.073633\n",
       "ATOMUSDT    -0.370375\n",
       "BCHUSDT     -0.290060\n",
       "BNBUSDT      0.038982\n",
       "BTCUSDT     -0.313265\n",
       "DOGEUSDT    -0.052635\n",
       "DOTUSDT     -0.445354\n",
       "ETCUSDT     -0.323576\n",
       "ETHUSDT      0.046184\n",
       "FILUSDT     -0.369928\n",
       "LINKUSDT    -0.274348\n",
       "LTCUSDT     -0.114902\n",
       "LUNAUSDT    -0.394965\n",
       "MATICUSDT    0.151215\n",
       "SOLUSDT     -0.292027\n",
       "XLMUSDT     -0.361588\n",
       "XRPUSDT     -0.389702\n",
       "Name: total_return, dtype: float64"
      ]
     },
     "execution_count": 8,
     "metadata": {},
     "output_type": "execute_result"
    }
   ],
   "source": [
    "pf.total_return()"
   ]
  },
  {
   "cell_type": "code",
   "execution_count": 199,
   "metadata": {},
   "outputs": [
    {
     "data": {
      "application/vnd.jupyter.widget-view+json": {
       "model_id": "ff14bbf849eb4256b94735307180f564",
       "version_major": 2,
       "version_minor": 0
      },
      "text/plain": [
       "0it [00:00, ?it/s]"
      ]
     },
     "metadata": {},
     "output_type": "display_data"
    }
   ],
   "source": [
    "data = vbt.BinanceData.download(['ALGOUSDT'], start='180 days ago', end='now UTC', interval='5m')\n"
   ]
  },
  {
   "cell_type": "code",
   "execution_count": 200,
   "metadata": {},
   "outputs": [
    {
     "name": "stderr",
     "output_type": "stream",
     "text": [
      "/tmp/ipykernel_16035/607383427.py:42: UserWarning:\n",
      "\n",
      "Object has multiple columns. Aggregating using <function mean at 0x7f57dc694b80>. Pass column to select a single column/group.\n",
      "\n"
     ]
    },
    {
     "data": {
      "text/plain": [
       "Start                         2021-11-08 16:00:00+00:00\n",
       "End                           2022-05-07 15:55:00+00:00\n",
       "Period                                180 days 00:00:00\n",
       "Start Value                                       100.0\n",
       "End Value                                    224.461222\n",
       "Total Return [%]                             124.461222\n",
       "Benchmark Return [%]                         -62.505053\n",
       "Max Gross Exposure [%]                            100.0\n",
       "Total Fees Paid                                1.198113\n",
       "Max Drawdown [%]                              44.937671\n",
       "Max Drawdown Duration                  37 days 02:55:00\n",
       "Total Trades                                        5.0\n",
       "Total Closed Trades                                 4.0\n",
       "Total Open Trades                                   1.0\n",
       "Open Trade PnL                                  2.50047\n",
       "Win Rate [%]                                      100.0\n",
       "Best Trade [%]                                45.545987\n",
       "Worst Trade [%]                                6.314708\n",
       "Avg Winning Trade [%]                         23.140334\n",
       "Avg Losing Trade [%]                                NaN\n",
       "Avg Winning Trade Duration             22 days 10:48:45\n",
       "Avg Losing Trade Duration                           NaT\n",
       "Profit Factor                                       inf\n",
       "Expectancy                                    30.490188\n",
       "Sharpe Ratio                                   2.144822\n",
       "Calmar Ratio                                   9.241067\n",
       "Omega Ratio                                    1.021035\n",
       "Sortino Ratio                                   3.05035\n",
       "Name: agg_func_mean, dtype: object"
      ]
     },
     "execution_count": 200,
     "metadata": {},
     "output_type": "execute_result"
    }
   ],
   "source": [
    "close = data.get()['Close']\n",
    "\n",
    "\n",
    "close_15m = close.resample('15Min').last()\n",
    "close_1h = close.resample('60Min').last()\n",
    "close_1d = close.resample('1d').last()\n",
    "\n",
    "rsi_15m = vbt.RSI.run(close_15m, window=14, short_name='RSI').rsi\n",
    "rsi_15m, _ = rsi_15m.align(close, broadcast_axis=0,\n",
    "                            method='ffill', join='right')   \n",
    "rsi_1h = vbt.RSI.run(close_1h, window=14, short_name='RSI').rsi\n",
    "rsi_1h, _ = rsi_1h.align(close, broadcast_axis=0, method='ffill', join='right')\n",
    "\n",
    "rsi_1d = vbt.RSI.run(close_1d, window=14, short_name='RSI').rsi\n",
    "rsi_1d, _ = rsi_1d.align(close, broadcast_axis=0, method='ffill', join='right')\n",
    "\n",
    "signal = pd.DataFrame(close.copy()).applymap(lambda x: 0)\n",
    "signal[\n",
    "    (rsi_15m < 20) &\n",
    "    (rsi_1h < 20) &\n",
    "    (rsi_1d < 30)\n",
    "] = 1\n",
    "signal[\n",
    "    (rsi_15m > 80) &\n",
    "    (rsi_1h > 80) &\n",
    "    (rsi_1d > 70)\n",
    "] = -1\n",
    "\n",
    "entries = np.where(signal == 1, True, False)\n",
    "exits = np.where(signal == -1, True, False)\n",
    "\n",
    "entries_short = np.where(signal == -1, True, False)\n",
    "exits_short = np.where(signal == 1, True, False)\n",
    "pf = vbt.Portfolio.from_signals(\n",
    "    close=close,\n",
    "    entries=entries,\n",
    "    exits=exits,\n",
    "    short_entries=entries_short,\n",
    "    short_exits=exits_short,\n",
    "    fees=0.001  \n",
    ")\n",
    "pf.stats()"
   ]
  },
  {
   "cell_type": "code",
   "execution_count": null,
   "metadata": {},
   "outputs": [],
   "source": []
  }
 ],
 "metadata": {
  "interpreter": {
   "hash": "99dcc870c74deeceac456093fcce74b742d72a6bb0935dd9d5bc57cc2f50e42f"
  },
  "kernelspec": {
   "display_name": "Python 3.9.12 ('VECTOR')",
   "language": "python",
   "name": "python3"
  },
  "language_info": {
   "codemirror_mode": {
    "name": "ipython",
    "version": 3
   },
   "file_extension": ".py",
   "mimetype": "text/x-python",
   "name": "python",
   "nbconvert_exporter": "python",
   "pygments_lexer": "ipython3",
   "version": "3.9.12"
  },
  "orig_nbformat": 4
 },
 "nbformat": 4,
 "nbformat_minor": 2
}
