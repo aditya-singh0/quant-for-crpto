{
 "cells": [
  {
   "cell_type": "code",
   "execution_count": 1,
   "metadata": {},
   "outputs": [],
   "source": [
    "from dataset import Dataset\n",
    "import numpy as np\n",
    "import pandas as pd\n",
    "import vectorbt as vbt\n",
    "import pandas_ta as ta\n",
    "import warnings\n",
    "warnings.simplefilter(action='ignore')\n"
   ]
  },
  {
   "cell_type": "code",
   "execution_count": 2,
   "metadata": {},
   "outputs": [],
   "source": [
    "data_binance = Dataset().get_data(days=360, ticker='BTCUSDT', ts='1h')\n"
   ]
  },
  {
   "cell_type": "code",
   "execution_count": 3,
   "metadata": {},
   "outputs": [],
   "source": [
    "data = data_binance.copy()\n",
    "candles = data.ta.cdl_pattern(name='all')\n",
    "data = pd.concat([data, candles], axis=1)\n"
   ]
  },
  {
   "cell_type": "code",
   "execution_count": 7,
   "metadata": {},
   "outputs": [
    {
     "data": {
      "text/plain": [
       "0     0.815132\n",
       "1     0.151203\n",
       "2     0.022328\n",
       "3     0.006478\n",
       "4     0.002776\n",
       "5     0.000694\n",
       "6     0.000463\n",
       "8     0.000463\n",
       "7     0.000231\n",
       "11    0.000116\n",
       "9     0.000116\n",
       "Name: cuts_volume, dtype: float64"
      ]
     },
     "execution_count": 7,
     "metadata": {},
     "output_type": "execute_result"
    }
   ],
   "source": [
    "data['cuts_volume'] = pd.cut(data['volume'], bins=12, labels=False)\n",
    "data['cuts_volume'].value_counts(True)"
   ]
  },
  {
   "cell_type": "code",
   "execution_count": 8,
   "metadata": {},
   "outputs": [],
   "source": [
    "target_names = []\n",
    "fees = 0.001\n",
    "for i in range(1, 13):\n",
    "    name = f'expected_chg_{i}'\n",
    "    target_names.append(name)\n",
    "    data[name] = data['close'].pct_change(i).shift(-i)\n",
    "    data[name] = data[name] - fees\n"
   ]
  },
  {
   "cell_type": "code",
   "execution_count": 10,
   "metadata": {},
   "outputs": [
    {
     "data": {
      "text/html": [
       "<div>\n",
       "<style scoped>\n",
       "    .dataframe tbody tr th:only-of-type {\n",
       "        vertical-align: middle;\n",
       "    }\n",
       "\n",
       "    .dataframe tbody tr th {\n",
       "        vertical-align: top;\n",
       "    }\n",
       "\n",
       "    .dataframe thead th {\n",
       "        text-align: right;\n",
       "    }\n",
       "</style>\n",
       "<table border=\"1\" class=\"dataframe\">\n",
       "  <thead>\n",
       "    <tr style=\"text-align: right;\">\n",
       "      <th></th>\n",
       "      <th></th>\n",
       "      <th>sum</th>\n",
       "      <th>mean</th>\n",
       "      <th>size</th>\n",
       "    </tr>\n",
       "    <tr>\n",
       "      <th>CDL_HAMMER</th>\n",
       "      <th>cuts_volume</th>\n",
       "      <th></th>\n",
       "      <th></th>\n",
       "      <th></th>\n",
       "    </tr>\n",
       "  </thead>\n",
       "  <tbody>\n",
       "    <tr>\n",
       "      <th rowspan=\"2\" valign=\"top\">0.0</th>\n",
       "      <th>2</th>\n",
       "      <td>-0.375913</td>\n",
       "      <td>-0.001968</td>\n",
       "      <td>191.0</td>\n",
       "    </tr>\n",
       "    <tr>\n",
       "      <th>3</th>\n",
       "      <td>0.059550</td>\n",
       "      <td>0.001103</td>\n",
       "      <td>54.0</td>\n",
       "    </tr>\n",
       "    <tr>\n",
       "      <th>100.0</th>\n",
       "      <th>0</th>\n",
       "      <td>-0.212034</td>\n",
       "      <td>-0.001368</td>\n",
       "      <td>155.0</td>\n",
       "    </tr>\n",
       "  </tbody>\n",
       "</table>\n",
       "</div>"
      ],
      "text/plain": [
       "                             sum      mean   size\n",
       "CDL_HAMMER cuts_volume                           \n",
       "0.0        2           -0.375913 -0.001968  191.0\n",
       "           3            0.059550  0.001103   54.0\n",
       "100.0      0           -0.212034 -0.001368  155.0"
      ]
     },
     "execution_count": 10,
     "metadata": {},
     "output_type": "execute_result"
    }
   ],
   "source": [
    "data.groupby(['CDL_HAMMER', 'cuts_volume'])['expected_chg_1']\\\n",
    "    .agg(['sum', 'mean', 'size'])\\\n",
    "    .where(lambda x: (x['mean'] > 0.001) | (x['mean'] < -0.001))\\\n",
    "    .where(lambda x: x['size'] > 30)\\\n",
    "    .dropna()\n"
   ]
  },
  {
   "cell_type": "code",
   "execution_count": 12,
   "metadata": {},
   "outputs": [
    {
     "name": "stdout",
     "output_type": "stream",
     "text": [
      " 1    0.593548\n",
      "-1    0.406452\n",
      "Name: returns_dir, dtype: float64\n"
     ]
    },
    {
     "data": {
      "text/plain": [
       "<AxesSubplot:xlabel='time'>"
      ]
     },
     "execution_count": 12,
     "metadata": {},
     "output_type": "execute_result"
    },
    {
     "data": {
      "image/png": "[encoded data removed]",
      "text/plain": [
       "<Figure size 2160x360 with 1 Axes>"
      ]
     },
     "metadata": {
      "needs_background": "light"
     },
     "output_type": "display_data"
    }
   ],
   "source": [
    "data['signal'] = np.where(\n",
    "    (data['CDL_HAMMER'] == 100) & (data['cuts_volume'] == 0),\n",
    "    -1, 0\n",
    ")\n",
    "data['returns_strategy'] = data['signal'] * data['expected_chg_1']\n",
    "data['returns_dir'] = np.where(data['returns_strategy'] > 0, 1, 0)\n",
    "data['returns_dir'] = np.where(data['returns_strategy'] < 0, -1, data['returns_dir'])\n",
    "print(data[data['returns_dir'] != 0]['returns_dir'].value_counts(True))\n",
    "data['cumreturns'] = data['returns_strategy'].cumsum()\n",
    "data['cumreturns'].plot(figsize=(30, 5))"
   ]
  },
  {
   "cell_type": "code",
   "execution_count": 13,
   "metadata": {},
   "outputs": [
    {
     "data": {
      "text/plain": [
       "Start                        2021-02-08 01:00:00\n",
       "End                          2022-02-03 17:00:00\n",
       "Period                         360 days 04:00:00\n",
       "Total Return [%]                             inf\n",
       "Annualized Return [%]                        inf\n",
       "Annualized Volatility [%]             540.105878\n",
       "Max Drawdown [%]                       61.765883\n",
       "Max Drawdown Duration           14 days 06:00:00\n",
       "Sharpe Ratio                          170.771326\n",
       "Calmar Ratio                                 NaN\n",
       "Omega Ratio                            949.63061\n",
       "Sortino Ratio                       14038.721104\n",
       "Skew                                   -0.231718\n",
       "Kurtosis                                -0.74879\n",
       "Tail Ratio                             32.936161\n",
       "Common Sense Ratio                           inf\n",
       "Value at Risk                           0.005883\n",
       "Name: cumreturns, dtype: object"
      ]
     },
     "execution_count": 13,
     "metadata": {},
     "output_type": "execute_result"
    }
   ],
   "source": [
    "rets = data['cumreturns']\n",
    "rets_acc = rets.vbt.returns(freq='1h')\n",
    "rets_acc.stats()"
   ]
  },
  {
   "cell_type": "code",
   "execution_count": 15,
   "metadata": {},
   "outputs": [
    {
     "name": "stdout",
     "output_type": "stream",
     "text": [
      "Downside Risk 0.06570014197793068\n"
     ]
    },
    {
     "data": {
      "text/plain": [
       "<AxesSubplot:xlabel='time'>"
      ]
     },
     "execution_count": 15,
     "metadata": {},
     "output_type": "execute_result"
    },
    {
     "data": {
      "image/png": "[encoded data removed]",
      "text/plain": [
       "<Figure size 432x288 with 1 Axes>"
      ]
     },
     "metadata": {
      "needs_background": "light"
     },
     "output_type": "display_data"
    }
   ],
   "source": [
    "print('Downside Risk', rets_acc.downside_risk())\n",
    "rets_acc.drawdown().plot()"
   ]
  },
  {
   "cell_type": "code",
   "execution_count": 16,
   "metadata": {},
   "outputs": [
    {
     "data": {
      "application/vnd.jupyter.widget-view+json": {
       "model_id": "a8e86a219531413d8018125fa04f353d",
       "version_major": 2,
       "version_minor": 0
      },
      "text/plain": [
       "FigureWidget({\n",
       "    'data': [{'line': {'color': '#7f7f7f'},\n",
       "              'name': 'Benchmark',\n",
       "              's…"
      ]
     },
     "metadata": {},
     "output_type": "display_data"
    }
   ],
   "source": [
    "data['returns_strategy']\\\n",
    "    .vbt.returns\\\n",
    "    .plot_cumulative(benchmark_rets=data['close']\n",
    "                     .pct_change(1))\n"
   ]
  },
  {
   "cell_type": "code",
   "execution_count": null,
   "metadata": {},
   "outputs": [],
   "source": []
  }
 ],
 "metadata": {
  "interpreter": {
   "hash": "13e4bf8718393fa68b9eb0a9c0fc07f8623bd1e331a0a68151fde2760e95d853"
  },
  "kernelspec": {
   "display_name": "Python 3.8.10 64-bit ('CRYPTO': venv)",
   "language": "python",
   "name": "python3"
  },
  "language_info": {
   "codemirror_mode": {
    "name": "ipython",
    "version": 3
   },
   "file_extension": ".py",
   "mimetype": "text/x-python",
   "name": "python",
   "nbconvert_exporter": "python",
   "pygments_lexer": "ipython3",
   "version": "3.9.7"
  },
  "orig_nbformat": 4
 },
 "nbformat": 4,
 "nbformat_minor": 2
}
